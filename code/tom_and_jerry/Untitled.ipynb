{
 "cells": [
  {
   "cell_type": "code",
   "execution_count": 1,
   "metadata": {},
   "outputs": [
    {
     "name": "stderr",
     "output_type": "stream",
     "text": [
      "Using TensorFlow backend.\n"
     ]
    }
   ],
   "source": [
    "import numpy as np\n",
    "import cv2 #video capturing\n",
    "import math\n",
    "import matplotlib.pyplot as plt\n",
    "import pandas as pd\n",
    "from keras.preprocessing import image\n",
    "from keras.utils import np_utils\n",
    "from skimage.transform import resize\n",
    "from keras.applications.vgg16 import preprocess_input\n",
    "from sklearn.model_selection import train_test_split"
   ]
  },
  {
   "cell_type": "code",
   "execution_count": 2,
   "metadata": {},
   "outputs": [
    {
     "name": "stderr",
     "output_type": "stream",
     "text": [
      "C:\\Users\\maxfa\\Anaconda3\\lib\\site-packages\\skimage\\transform\\_warps.py:105: UserWarning: The default mode, 'constant', will be changed to 'reflect' in skimage 0.15.\n",
      "  warn(\"The default mode, 'constant', will be changed to 'reflect' in \"\n",
      "C:\\Users\\maxfa\\Anaconda3\\lib\\site-packages\\skimage\\transform\\_warps.py:110: UserWarning: Anti-aliasing will be enabled by default in skimage 0.15 to avoid aliasing artifacts when down-sampling images.\n",
      "  warn(\"Anti-aliasing will be enabled by default in skimage 0.15 to \"\n"
     ]
    }
   ],
   "source": [
    "count = 0\n",
    "videoFile = \"Tom and jerry.mp4\"\n",
    "cap = cv2.VideoCapture(videoFile)\n",
    "frameRate = cap.get(5)\n",
    "\n",
    "#x=1\n",
    "def get_frames():\n",
    "\tcount = 0\n",
    "\tvideoFile = \"Tom and jerry.mp4\"\n",
    "\tcap = cv2.VideoCapture(videoFile)\n",
    "\tframeRate = cap.get(5)\n",
    "\twhile(cap.isOpened()):\n",
    "\t\tframeId = cap.get(1) #current frame number\n",
    "\t\tret, frame = cap.read()\n",
    "\t\tif (ret != True):\n",
    "\t\t\tbreak\n",
    "\t\tif (frameId % math.floor(frameRate) == 0):\n",
    "\t\t\tfilename = \"frame%d.jpg\" % count;count+=1\n",
    "\t\t\tcv2.imwrite(filename,frame)\n",
    "\tcap.release()\n",
    "\tprint(\"Done!\")\n",
    "\n",
    "\n",
    "data = pd.read_csv('mapping.csv')\n",
    "X = []\n",
    "for img_name in data.Image_ID:\n",
    "\timg = plt.imread(''+img_name)\n",
    "\tX.append(img)\n",
    "X = np.array(X)\n",
    "\n",
    "y = data.Class\n",
    "dummy_y = np_utils.to_categorical(y)\n",
    "\n",
    "image = []\n",
    "for i in range(0,X.shape[0]):\n",
    "\ta = resize(X[i], preserve_range=True,output_shape=(224,224)).astype(int)\n",
    "\timage.append(a)\n",
    "X = np.array(image)\n",
    "\n",
    "\n",
    "X = preprocess_input(X,mode='tf')\n"
   ]
  },
  {
   "cell_type": "code",
   "execution_count": 7,
   "metadata": {},
   "outputs": [],
   "source": [
    "X_train, X_valid, y_train, y_valid = train_test_split(X, dummy_y,test_size=0.3,random_state=42)\n"
   ]
  },
  {
   "cell_type": "code",
   "execution_count": 8,
   "metadata": {},
   "outputs": [],
   "source": [
    "from keras.models import Sequential\n",
    "from keras.applications.vgg16 import VGG16\n",
    "from keras.layers import Dense, InputLayer,Dropout"
   ]
  },
  {
   "cell_type": "code",
   "execution_count": 10,
   "metadata": {},
   "outputs": [
    {
     "name": "stdout",
     "output_type": "stream",
     "text": [
      "Downloading data from https://github.com/fchollet/deep-learning-models/releases/download/v0.1/vgg16_weights_tf_dim_ordering_tf_kernels_notop.h5\n",
      "58892288/58889256 [==============================] - 15s 0us/step\n"
     ]
    }
   ],
   "source": [
    "base_model = VGG16(weights='imagenet', include_top=False, input_shape=(224, 224, 3))"
   ]
  },
  {
   "cell_type": "code",
   "execution_count": 11,
   "metadata": {},
   "outputs": [
    {
     "data": {
      "text/plain": [
       "((208, 7, 7, 512), (90, 7, 7, 512))"
      ]
     },
     "execution_count": 11,
     "metadata": {},
     "output_type": "execute_result"
    }
   ],
   "source": [
    "X_train = base_model.predict(X_train)\n",
    "X_valid = base_model.predict(X_valid)\n",
    "X_train.shape,X_valid.shape"
   ]
  },
  {
   "cell_type": "code",
   "execution_count": 13,
   "metadata": {},
   "outputs": [],
   "source": [
    "X_train = X_train.reshape(208,7*7*512)\n",
    "X_valid = X_valid.reshape(90,7*7*512)\n",
    "train = X_train/X_train.max()\n",
    "X_valid = X_valid/X_train.max()"
   ]
  },
  {
   "cell_type": "code",
   "execution_count": 17,
   "metadata": {},
   "outputs": [],
   "source": [
    "model = Sequential()\n",
    "model.add(InputLayer((7*7*512,)))\n",
    "model.add(Dense(units=1024,activation='sigmoid'))\n",
    "model.add(Dense(3,activation='softmax'))"
   ]
  },
  {
   "cell_type": "code",
   "execution_count": 18,
   "metadata": {},
   "outputs": [
    {
     "name": "stdout",
     "output_type": "stream",
     "text": [
      "Model: \"sequential_4\"\n",
      "_________________________________________________________________\n",
      "Layer (type)                 Output Shape              Param #   \n",
      "=================================================================\n",
      "dense_1 (Dense)              (None, 1024)              25691136  \n",
      "_________________________________________________________________\n",
      "dense_2 (Dense)              (None, 3)                 3075      \n",
      "=================================================================\n",
      "Total params: 25,694,211\n",
      "Trainable params: 25,694,211\n",
      "Non-trainable params: 0\n",
      "_________________________________________________________________\n"
     ]
    }
   ],
   "source": [
    "model.summary()"
   ]
  },
  {
   "cell_type": "code",
   "execution_count": 20,
   "metadata": {},
   "outputs": [],
   "source": [
    "model.compile(loss='categorical_crossentropy',optimizer='adam',metrics=['accuracy'])"
   ]
  },
  {
   "cell_type": "code",
   "execution_count": 21,
   "metadata": {},
   "outputs": [
    {
     "name": "stdout",
     "output_type": "stream",
     "text": [
      "Train on 208 samples, validate on 90 samples\n",
      "Epoch 1/100\n",
      "208/208 [==============================] - 4s 18ms/step - loss: 0.9960 - accuracy: 0.5433 - val_loss: 0.6317 - val_accuracy: 0.6778\n",
      "Epoch 2/100\n",
      "208/208 [==============================] - 3s 16ms/step - loss: 0.3494 - accuracy: 0.9038 - val_loss: 0.4998 - val_accuracy: 0.7889\n",
      "Epoch 3/100\n",
      "208/208 [==============================] - 3s 17ms/step - loss: 0.1660 - accuracy: 0.9471 - val_loss: 0.3716 - val_accuracy: 0.8444\n",
      "Epoch 4/100\n",
      "208/208 [==============================] - 4s 19ms/step - loss: 0.1024 - accuracy: 0.9808 - val_loss: 0.3577 - val_accuracy: 0.8556\n",
      "Epoch 5/100\n",
      "208/208 [==============================] - 3s 17ms/step - loss: 0.0561 - accuracy: 0.9952 - val_loss: 0.3364 - val_accuracy: 0.8444\n",
      "Epoch 6/100\n",
      "208/208 [==============================] - 3s 16ms/step - loss: 0.0400 - accuracy: 0.9952 - val_loss: 0.3416 - val_accuracy: 0.8556\n",
      "Epoch 7/100\n",
      "208/208 [==============================] - 3s 16ms/step - loss: 0.0367 - accuracy: 0.9952 - val_loss: 0.3333 - val_accuracy: 0.8556\n",
      "Epoch 8/100\n",
      "208/208 [==============================] - 3s 17ms/step - loss: 0.0256 - accuracy: 0.9952 - val_loss: 0.3108 - val_accuracy: 0.8556\n",
      "Epoch 9/100\n",
      "208/208 [==============================] - 3s 17ms/step - loss: 0.0263 - accuracy: 0.9952 - val_loss: 0.3287 - val_accuracy: 0.8444\n",
      "Epoch 10/100\n",
      "208/208 [==============================] - 4s 17ms/step - loss: 0.0229 - accuracy: 0.9904 - val_loss: 0.3341 - val_accuracy: 0.8444\n",
      "Epoch 11/100\n",
      "208/208 [==============================] - 4s 17ms/step - loss: 0.0211 - accuracy: 0.9952 - val_loss: 0.3299 - val_accuracy: 0.8556\n",
      "Epoch 12/100\n",
      "208/208 [==============================] - 3s 17ms/step - loss: 0.0179 - accuracy: 0.9952 - val_loss: 0.3160 - val_accuracy: 0.8556\n",
      "Epoch 13/100\n",
      "208/208 [==============================] - 4s 18ms/step - loss: 0.0193 - accuracy: 0.9904 - val_loss: 0.3359 - val_accuracy: 0.8444\n",
      "Epoch 14/100\n",
      "208/208 [==============================] - 4s 18ms/step - loss: 0.0173 - accuracy: 0.9904 - val_loss: 0.3246 - val_accuracy: 0.8556\n",
      "Epoch 15/100\n",
      "208/208 [==============================] - 3s 17ms/step - loss: 0.0188 - accuracy: 0.9952 - val_loss: 0.3246 - val_accuracy: 0.8444\n",
      "Epoch 16/100\n",
      "208/208 [==============================] - 4s 20ms/step - loss: 0.0151 - accuracy: 0.9952 - val_loss: 0.3439 - val_accuracy: 0.8444\n",
      "Epoch 17/100\n",
      "208/208 [==============================] - 4s 19ms/step - loss: 0.0140 - accuracy: 0.9952 - val_loss: 0.3169 - val_accuracy: 0.8667\n",
      "Epoch 18/100\n",
      "208/208 [==============================] - 3s 17ms/step - loss: 0.0159 - accuracy: 0.9952 - val_loss: 0.3315 - val_accuracy: 0.8556\n",
      "Epoch 19/100\n",
      "208/208 [==============================] - 3s 17ms/step - loss: 0.0399 - accuracy: 0.9904 - val_loss: 0.4713 - val_accuracy: 0.8444\n",
      "Epoch 20/100\n",
      "208/208 [==============================] - 3s 17ms/step - loss: 0.0246 - accuracy: 0.9952 - val_loss: 0.3329 - val_accuracy: 0.8778\n",
      "Epoch 21/100\n",
      "208/208 [==============================] - 3s 17ms/step - loss: 0.0340 - accuracy: 0.9904 - val_loss: 0.3092 - val_accuracy: 0.8667\n",
      "Epoch 22/100\n",
      "208/208 [==============================] - 4s 17ms/step - loss: 0.0202 - accuracy: 0.9904 - val_loss: 0.4629 - val_accuracy: 0.8333\n",
      "Epoch 23/100\n",
      "208/208 [==============================] - 3s 16ms/step - loss: 0.0197 - accuracy: 0.9952 - val_loss: 0.3118 - val_accuracy: 0.8667\n",
      "Epoch 24/100\n",
      "208/208 [==============================] - 4s 18ms/step - loss: 0.0207 - accuracy: 0.9904 - val_loss: 0.3424 - val_accuracy: 0.8667\n",
      "Epoch 25/100\n",
      "208/208 [==============================] - 4s 17ms/step - loss: 0.0143 - accuracy: 0.9952 - val_loss: 0.3180 - val_accuracy: 0.8556\n",
      "Epoch 26/100\n",
      "208/208 [==============================] - 3s 17ms/step - loss: 0.0183 - accuracy: 0.9952 - val_loss: 0.3309 - val_accuracy: 0.8444\n",
      "Epoch 27/100\n",
      "208/208 [==============================] - 3s 16ms/step - loss: 0.0099 - accuracy: 0.9952 - val_loss: 0.4390 - val_accuracy: 0.8444\n",
      "Epoch 28/100\n",
      "208/208 [==============================] - 3s 16ms/step - loss: 0.0189 - accuracy: 0.9952 - val_loss: 0.3951 - val_accuracy: 0.8444\n",
      "Epoch 29/100\n",
      "208/208 [==============================] - 3s 16ms/step - loss: 0.0135 - accuracy: 0.9952 - val_loss: 0.3112 - val_accuracy: 0.8667\n",
      "Epoch 30/100\n",
      "208/208 [==============================] - 4s 20ms/step - loss: 0.0128 - accuracy: 0.9952 - val_loss: 0.3493 - val_accuracy: 0.8556\n",
      "Epoch 31/100\n",
      "208/208 [==============================] - 4s 19ms/step - loss: 0.0128 - accuracy: 0.9952 - val_loss: 0.5103 - val_accuracy: 0.8333\n",
      "Epoch 32/100\n",
      "208/208 [==============================] - 4s 17ms/step - loss: 0.0245 - accuracy: 0.9952 - val_loss: 0.3649 - val_accuracy: 0.8667\n",
      "Epoch 33/100\n",
      "208/208 [==============================] - 3s 17ms/step - loss: 0.0104 - accuracy: 0.9952 - val_loss: 0.3178 - val_accuracy: 0.8889\n",
      "Epoch 34/100\n",
      "208/208 [==============================] - 3s 16ms/step - loss: 0.0204 - accuracy: 0.9952 - val_loss: 0.3244 - val_accuracy: 0.8667\n",
      "Epoch 35/100\n",
      "208/208 [==============================] - 4s 17ms/step - loss: 0.0133 - accuracy: 0.9952 - val_loss: 0.5355 - val_accuracy: 0.8333\n",
      "Epoch 36/100\n",
      "208/208 [==============================] - 4s 17ms/step - loss: 0.0211 - accuracy: 0.9952 - val_loss: 0.3565 - val_accuracy: 0.8667\n",
      "Epoch 37/100\n",
      "208/208 [==============================] - 4s 17ms/step - loss: 0.0076 - accuracy: 1.0000 - val_loss: 0.3152 - val_accuracy: 0.8778\n",
      "Epoch 38/100\n",
      "208/208 [==============================] - 3s 17ms/step - loss: 0.0177 - accuracy: 0.9904 - val_loss: 0.3396 - val_accuracy: 0.8667\n",
      "Epoch 39/100\n",
      "208/208 [==============================] - 3s 17ms/step - loss: 0.0115 - accuracy: 0.9952 - val_loss: 0.3526 - val_accuracy: 0.8556\n",
      "Epoch 40/100\n",
      "208/208 [==============================] - 3s 16ms/step - loss: 0.0165 - accuracy: 0.9904 - val_loss: 0.4125 - val_accuracy: 0.8444\n",
      "Epoch 41/100\n",
      "208/208 [==============================] - 3s 17ms/step - loss: 0.0149 - accuracy: 0.9904 - val_loss: 0.3248 - val_accuracy: 0.8667\n",
      "Epoch 42/100\n",
      "208/208 [==============================] - 3s 17ms/step - loss: 0.0167 - accuracy: 0.9904 - val_loss: 0.3855 - val_accuracy: 0.8444\n",
      "Epoch 43/100\n",
      "208/208 [==============================] - 3s 16ms/step - loss: 0.0159 - accuracy: 0.9904 - val_loss: 0.3390 - val_accuracy: 0.8556\n",
      "Epoch 44/100\n",
      "208/208 [==============================] - 3s 16ms/step - loss: 0.0090 - accuracy: 0.9904 - val_loss: 0.3919 - val_accuracy: 0.8444\n",
      "Epoch 45/100\n",
      "208/208 [==============================] - 3s 16ms/step - loss: 0.0099 - accuracy: 0.9952 - val_loss: 0.3810 - val_accuracy: 0.8556\n",
      "Epoch 46/100\n",
      "208/208 [==============================] - 3s 16ms/step - loss: 0.0163 - accuracy: 0.9904 - val_loss: 0.3406 - val_accuracy: 0.8667\n",
      "Epoch 47/100\n",
      "208/208 [==============================] - 3s 17ms/step - loss: 0.0216 - accuracy: 0.9904 - val_loss: 0.4724 - val_accuracy: 0.8444\n",
      "Epoch 48/100\n",
      "208/208 [==============================] - 3s 17ms/step - loss: 0.0140 - accuracy: 0.9952 - val_loss: 0.3180 - val_accuracy: 0.8778\n",
      "Epoch 49/100\n",
      "208/208 [==============================] - 3s 17ms/step - loss: 0.0139 - accuracy: 0.9952 - val_loss: 0.3484 - val_accuracy: 0.8667\n",
      "Epoch 50/100\n",
      "208/208 [==============================] - 3s 16ms/step - loss: 0.0114 - accuracy: 0.9904 - val_loss: 0.3890 - val_accuracy: 0.8556\n",
      "Epoch 51/100\n",
      "208/208 [==============================] - 4s 17ms/step - loss: 0.0112 - accuracy: 0.9952 - val_loss: 0.3611 - val_accuracy: 0.8556\n",
      "Epoch 52/100\n",
      "208/208 [==============================] - 3s 16ms/step - loss: 0.0084 - accuracy: 0.9952 - val_loss: 0.3298 - val_accuracy: 0.8667\n",
      "Epoch 53/100\n",
      "208/208 [==============================] - 3s 16ms/step - loss: 0.0133 - accuracy: 0.9952 - val_loss: 0.3608 - val_accuracy: 0.8556\n",
      "Epoch 54/100\n",
      "208/208 [==============================] - 3s 16ms/step - loss: 0.0052 - accuracy: 1.0000 - val_loss: 0.6164 - val_accuracy: 0.8333\n",
      "Epoch 55/100\n",
      "208/208 [==============================] - 3s 16ms/step - loss: 0.0323 - accuracy: 0.9952 - val_loss: 0.4825 - val_accuracy: 0.8444\n",
      "Epoch 56/100\n",
      "208/208 [==============================] - 3s 16ms/step - loss: 0.0168 - accuracy: 0.9904 - val_loss: 0.3396 - val_accuracy: 0.8889\n",
      "Epoch 57/100\n"
     ]
    },
    {
     "name": "stdout",
     "output_type": "stream",
     "text": [
      "208/208 [==============================] - 3s 17ms/step - loss: 0.0156 - accuracy: 0.9952 - val_loss: 0.3732 - val_accuracy: 0.8667\n",
      "Epoch 58/100\n",
      "208/208 [==============================] - 3s 16ms/step - loss: 0.0246 - accuracy: 0.9904 - val_loss: 0.3282 - val_accuracy: 0.8667\n",
      "Epoch 59/100\n",
      "208/208 [==============================] - 3s 17ms/step - loss: 0.0134 - accuracy: 0.9952 - val_loss: 0.4951 - val_accuracy: 0.8444\n",
      "Epoch 60/100\n",
      "208/208 [==============================] - 4s 17ms/step - loss: 0.0134 - accuracy: 0.9952 - val_loss: 0.3596 - val_accuracy: 0.8556\n",
      "Epoch 61/100\n",
      "208/208 [==============================] - 3s 16ms/step - loss: 0.0140 - accuracy: 0.9952 - val_loss: 0.3375 - val_accuracy: 0.8667\n",
      "Epoch 62/100\n",
      "208/208 [==============================] - 3s 16ms/step - loss: 0.0113 - accuracy: 0.9952 - val_loss: 0.3720 - val_accuracy: 0.8667\n",
      "Epoch 63/100\n",
      "208/208 [==============================] - 3s 16ms/step - loss: 0.0080 - accuracy: 0.9952 - val_loss: 0.5480 - val_accuracy: 0.8333\n",
      "Epoch 64/100\n",
      "208/208 [==============================] - 3s 16ms/step - loss: 0.0204 - accuracy: 0.9952 - val_loss: 0.3945 - val_accuracy: 0.8667\n",
      "Epoch 65/100\n",
      "208/208 [==============================] - 3s 16ms/step - loss: 0.0079 - accuracy: 0.9952 - val_loss: 0.3318 - val_accuracy: 0.8556\n",
      "Epoch 66/100\n",
      "208/208 [==============================] - 3s 16ms/step - loss: 0.0136 - accuracy: 0.9952 - val_loss: 0.3353 - val_accuracy: 0.8667\n",
      "Epoch 67/100\n",
      "208/208 [==============================] - 3s 17ms/step - loss: 0.0092 - accuracy: 0.9952 - val_loss: 0.4198 - val_accuracy: 0.8444\n",
      "Epoch 68/100\n",
      "208/208 [==============================] - 3s 16ms/step - loss: 0.0147 - accuracy: 0.9952 - val_loss: 0.4427 - val_accuracy: 0.8444\n",
      "Epoch 69/100\n",
      "208/208 [==============================] - 3s 16ms/step - loss: 0.0108 - accuracy: 0.9952 - val_loss: 0.3279 - val_accuracy: 0.8667\n",
      "Epoch 70/100\n",
      "208/208 [==============================] - 3s 16ms/step - loss: 0.0158 - accuracy: 0.9952 - val_loss: 0.3711 - val_accuracy: 0.8556\n",
      "Epoch 71/100\n",
      "208/208 [==============================] - 3s 16ms/step - loss: 0.0093 - accuracy: 0.9952 - val_loss: 0.4470 - val_accuracy: 0.8444\n",
      "Epoch 72/100\n",
      "208/208 [==============================] - 3s 16ms/step - loss: 0.0125 - accuracy: 0.9952 - val_loss: 0.4235 - val_accuracy: 0.8444\n",
      "Epoch 73/100\n",
      "208/208 [==============================] - 3s 16ms/step - loss: 0.0323 - accuracy: 0.9904 - val_loss: 0.3594 - val_accuracy: 0.8889\n",
      "Epoch 74/100\n",
      "208/208 [==============================] - 3s 16ms/step - loss: 0.0281 - accuracy: 0.9952 - val_loss: 0.3593 - val_accuracy: 0.8778\n",
      "Epoch 75/100\n",
      "208/208 [==============================] - 3s 16ms/step - loss: 0.0097 - accuracy: 0.9952 - val_loss: 0.5648 - val_accuracy: 0.8333\n",
      "Epoch 76/100\n",
      "208/208 [==============================] - 4s 17ms/step - loss: 0.0118 - accuracy: 0.9952 - val_loss: 0.4996 - val_accuracy: 0.8444\n",
      "Epoch 77/100\n",
      "208/208 [==============================] - 4s 18ms/step - loss: 0.0129 - accuracy: 0.9904 - val_loss: 0.3615 - val_accuracy: 0.8556\n",
      "Epoch 78/100\n",
      "208/208 [==============================] - 4s 18ms/step - loss: 0.0225 - accuracy: 0.9904 - val_loss: 0.4853 - val_accuracy: 0.8444\n",
      "Epoch 79/100\n",
      "208/208 [==============================] - 4s 18ms/step - loss: 0.0241 - accuracy: 0.9904 - val_loss: 0.3375 - val_accuracy: 0.9000\n",
      "Epoch 80/100\n",
      "208/208 [==============================] - 3s 16ms/step - loss: 0.0136 - accuracy: 0.9952 - val_loss: 0.3568 - val_accuracy: 0.8444\n",
      "Epoch 81/100\n",
      "208/208 [==============================] - 3s 16ms/step - loss: 0.0083 - accuracy: 0.9952 - val_loss: 0.4053 - val_accuracy: 0.8556\n",
      "Epoch 82/100\n",
      "208/208 [==============================] - 3s 17ms/step - loss: 0.0080 - accuracy: 0.9952 - val_loss: 0.4246 - val_accuracy: 0.8444\n",
      "Epoch 83/100\n",
      "208/208 [==============================] - 3s 16ms/step - loss: 0.0098 - accuracy: 0.9904 - val_loss: 0.3929 - val_accuracy: 0.8556\n",
      "Epoch 84/100\n",
      "208/208 [==============================] - 3s 16ms/step - loss: 0.0094 - accuracy: 0.9952 - val_loss: 0.3853 - val_accuracy: 0.8556\n",
      "Epoch 85/100\n",
      "208/208 [==============================] - 3s 16ms/step - loss: 0.0064 - accuracy: 1.0000 - val_loss: 0.5102 - val_accuracy: 0.8444\n",
      "Epoch 86/100\n",
      "208/208 [==============================] - 3s 16ms/step - loss: 0.0132 - accuracy: 0.9952 - val_loss: 0.4276 - val_accuracy: 0.8556\n",
      "Epoch 87/100\n",
      "208/208 [==============================] - 3s 16ms/step - loss: 0.0092 - accuracy: 0.9952 - val_loss: 0.3691 - val_accuracy: 0.8556\n",
      "Epoch 88/100\n",
      "208/208 [==============================] - 3s 16ms/step - loss: 0.0100 - accuracy: 0.9952 - val_loss: 0.3457 - val_accuracy: 0.8556\n",
      "Epoch 89/100\n",
      "208/208 [==============================] - 3s 16ms/step - loss: 0.0179 - accuracy: 0.9904 - val_loss: 0.4659 - val_accuracy: 0.8444\n",
      "Epoch 90/100\n",
      "208/208 [==============================] - 3s 16ms/step - loss: 0.0101 - accuracy: 0.9904 - val_loss: 0.3501 - val_accuracy: 0.8556\n",
      "Epoch 91/100\n",
      "208/208 [==============================] - 3s 16ms/step - loss: 0.0076 - accuracy: 0.9952 - val_loss: 0.3681 - val_accuracy: 0.8556\n",
      "Epoch 92/100\n",
      "208/208 [==============================] - 3s 16ms/step - loss: 0.0086 - accuracy: 0.9952 - val_loss: 0.3860 - val_accuracy: 0.8667\n",
      "Epoch 93/100\n",
      "208/208 [==============================] - 3s 16ms/step - loss: 0.0102 - accuracy: 0.9904 - val_loss: 0.3602 - val_accuracy: 0.8444\n",
      "Epoch 94/100\n",
      "208/208 [==============================] - 3s 17ms/step - loss: 0.0083 - accuracy: 0.9952 - val_loss: 0.4077 - val_accuracy: 0.8556\n",
      "Epoch 95/100\n",
      "208/208 [==============================] - 4s 18ms/step - loss: 0.0094 - accuracy: 0.9952 - val_loss: 0.4263 - val_accuracy: 0.8556\n",
      "Epoch 96/100\n",
      "208/208 [==============================] - 3s 17ms/step - loss: 0.0093 - accuracy: 0.9904 - val_loss: 0.3656 - val_accuracy: 0.8556\n",
      "Epoch 97/100\n",
      "208/208 [==============================] - 3s 16ms/step - loss: 0.0077 - accuracy: 0.9952 - val_loss: 0.3710 - val_accuracy: 0.8556\n",
      "Epoch 98/100\n",
      "208/208 [==============================] - 3s 17ms/step - loss: 0.0085 - accuracy: 0.9904 - val_loss: 0.4004 - val_accuracy: 0.8556\n",
      "Epoch 99/100\n",
      "208/208 [==============================] - 3s 16ms/step - loss: 0.0078 - accuracy: 0.9952 - val_loss: 0.3904 - val_accuracy: 0.8667\n",
      "Epoch 100/100\n",
      "208/208 [==============================] - 3s 16ms/step - loss: 0.0073 - accuracy: 0.9952 - val_loss: 0.3809 - val_accuracy: 0.8556\n"
     ]
    },
    {
     "data": {
      "text/plain": [
       "<keras.callbacks.callbacks.History at 0x279816a90f0>"
      ]
     },
     "execution_count": 21,
     "metadata": {},
     "output_type": "execute_result"
    }
   ],
   "source": [
    "model.fit(train,y_train,epochs=100,validation_data=(X_valid,y_valid))"
   ]
  },
  {
   "cell_type": "code",
   "execution_count": 24,
   "metadata": {},
   "outputs": [
    {
     "name": "stdout",
     "output_type": "stream",
     "text": [
      "Done\n"
     ]
    }
   ],
   "source": [
    "count = 0\n",
    "videoFile = \"Tom and Jerry 3.mp4\"\n",
    "cap = cv2.VideoCapture(videoFile)\n",
    "\n",
    "frameRate = cap.get(5)\n",
    "\n",
    "x=1\n",
    "\n",
    "while(cap.isOpened()):\n",
    "    frameId = cap.get(1)\n",
    "    ret,frame = cap.read()\n",
    "    if(ret != True):\n",
    "        break\n",
    "    if(frameId % math.floor(frameRate)==0):\n",
    "        filename = \"test%d.jpg\"%count;count+=1\n",
    "        cv2.imwrite(filename,frame)\n",
    "cap.release()\n",
    "print(\"Done\")"
   ]
  },
  {
   "cell_type": "code",
   "execution_count": 25,
   "metadata": {},
   "outputs": [],
   "source": [
    "test = pd.read_csv('test.csv')"
   ]
  },
  {
   "cell_type": "code",
   "execution_count": 28,
   "metadata": {},
   "outputs": [],
   "source": [
    "test_image = []\n",
    "for img_name in test.Image_ID:\n",
    "    img = plt.imread('' + img_name)\n",
    "    test_image.append(img)\n",
    "test_img = np.array(test_image)"
   ]
  },
  {
   "cell_type": "code",
   "execution_count": 29,
   "metadata": {},
   "outputs": [],
   "source": [
    "test_image = []\n",
    "for i in range(0,test_img.shape[0]):\n",
    "    a = resize(test_img[i],preserve_range=True,output_shape=(224,224)).astype(int)\n",
    "    test_image.append(a)\n",
    "test_image = np.array(test_image)"
   ]
  },
  {
   "cell_type": "code",
   "execution_count": 30,
   "metadata": {},
   "outputs": [],
   "source": [
    "test_image = preprocess_input(test_image,mode='tf')\n",
    "test_image = base_model.predict(test_image)\n",
    "test_image = test_image.reshape(186,7*7*512)\n",
    "test_image = test_image/test_image.max()"
   ]
  },
  {
   "cell_type": "code",
   "execution_count": 31,
   "metadata": {},
   "outputs": [],
   "source": [
    "predictions = model.predict_classes(test_image)"
   ]
  },
  {
   "cell_type": "code",
   "execution_count": 33,
   "metadata": {},
   "outputs": [
    {
     "name": "stdout",
     "output_type": "stream",
     "text": [
      "The screen time of JERRY is 7 seconds\n",
      "The screen time of TOM is 134 seconds\n"
     ]
    }
   ],
   "source": [
    "print(\"The screen time of JERRY is\", predictions[predictions==1].shape[0], \"seconds\")\n",
    "print(\"The screen time of TOM is\", predictions[predictions==2].shape[0], \"seconds\")"
   ]
  },
  {
   "cell_type": "code",
   "execution_count": null,
   "metadata": {},
   "outputs": [],
   "source": []
  }
 ],
 "metadata": {
  "kernelspec": {
   "display_name": "Python 3",
   "language": "python",
   "name": "python3"
  },
  "language_info": {
   "codemirror_mode": {
    "name": "ipython",
    "version": 3
   },
   "file_extension": ".py",
   "mimetype": "text/x-python",
   "name": "python",
   "nbconvert_exporter": "python",
   "pygments_lexer": "ipython3",
   "version": "3.7.3"
  }
 },
 "nbformat": 4,
 "nbformat_minor": 2
}
